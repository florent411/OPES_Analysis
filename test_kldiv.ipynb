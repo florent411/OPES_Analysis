{
 "cells": [
  {
   "cell_type": "code",
   "execution_count": 124,
   "metadata": {},
   "outputs": [],
   "source": [
    "import numpy as np\n",
    "import matplotlib.pyplot as plt\n",
    "import pandas as pd\n",
    "import scipy\n",
    "from scipy.stats import entropy"
   ]
  },
  {
   "cell_type": "code",
   "execution_count": null,
   "metadata": {},
   "outputs": [],
   "source": []
  },
  {
   "cell_type": "code",
   "execution_count": 291,
   "metadata": {},
   "outputs": [],
   "source": [
    "def kl(p, q):\n",
    "    \"\"\"Kullback-Leibler divergence D(P || Q) for discrete distributions\n",
    "    Parameters\n",
    "    ----------\n",
    "    p, q : array-like, dtype=float, shape=n\n",
    "    Discrete probability distributions.\n",
    "    \"\"\"\n",
    "    p = np.asarray(p, dtype=float)\n",
    "    q = np.asarray(q, dtype=float)\n",
    "\n",
    "    return np.sum(np.where(p != 0, p * np.log(p / q), 0))"
   ]
  },
  {
   "cell_type": "code",
   "execution_count": 297,
   "metadata": {},
   "outputs": [],
   "source": [
    "# Load FES\n",
    "# df = pd.read_csv(\"FES_hel_colvar\", delim_whitespace=True)\n",
    "# df = pd.read_csv(\"FES_hel_colvar\", delim_whitespace=True)\n",
    "df = pd.read_csv(\"FES_e2e_colvar\", delim_whitespace=True)\n"
   ]
  },
  {
   "cell_type": "code",
   "execution_count": 298,
   "metadata": {},
   "outputs": [],
   "source": [
    "time_list = df['time'].unique()\n",
    "cvs = [ x for x in df.columns.values.tolist() if x not in ['time', 'fes']]"
   ]
  },
  {
   "cell_type": "code",
   "execution_count": 299,
   "metadata": {},
   "outputs": [],
   "source": [
    "total_kldiv, total_kldiv_smooth = [], []\n",
    "for index, time in enumerate(time_list):\n",
    "    current = df[df['time'] == time]\n",
    "    reference = df[df['time'] == 500000.0]\n",
    "\n",
    "    cur_fe = current['fes'].values\n",
    "    ref_fe = reference['fes'].values\n",
    "\n",
    "    # Porbabilities\n",
    "    unitfactor = 2.577483\n",
    "\n",
    "    ref = np.exp(-ref_fe / unitfactor)\n",
    "    cur = np.exp(-cur_fe / unitfactor)\n",
    "    diff = (cur_fe - ref_fe) / unitfactor\n",
    "\n",
    "    # Normalized probabilities\n",
    "    ref_norm = ref / np.sum(ref)\n",
    "    cur_norm = cur / np.sum(cur)\n",
    "\n",
    "    # To adjust for large arear where q = 0, a Bayesian smoothing function is employed. Here a \"simulation\" is performed of N ideal steps, using the FE from sampling.\n",
    "    # The new adjusted probability for each of the bins is then (1 + Pi * N) / (M + N), where M is the total number of bins.\n",
    "    # N is chosen to be big enough to turn 0 values into very small values, without risking python not being able to handle the values.\n",
    "    N, M= 1e9, len(ref_norm) \n",
    "    ref_norm_smooth = (N * ref_norm + 1) / (N + M)\n",
    "    cur_norm_smooth = (N * cur_norm + 1) / (N + M)\n",
    "\n",
    "    # Calculate KLdiv\n",
    "    total_kldiv.append(kl(ref_norm, cur_norm))\n",
    "    total_kldiv_smooth.append(kl(ref_norm_smooth, cur_norm_smooth))"
   ]
  },
  {
   "cell_type": "code",
   "execution_count": 300,
   "metadata": {},
   "outputs": [
    {
     "data": {
      "text/plain": [
       "(0.0, 20.0)"
      ]
     },
     "execution_count": 300,
     "metadata": {},
     "output_type": "execute_result"
    },
    {
     "data": {
      "image/png": "[encoded data removed]",
      "text/plain": [
       "<Figure size 432x288 with 1 Axes>"
      ]
     },
     "metadata": {
      "needs_background": "light"
     },
     "output_type": "display_data"
    }
   ],
   "source": [
    "kldiv = np.asarray(total_kldiv)\n",
    "kldiv_smooth = np.asarray(total_kldiv_smooth)\n",
    "\n",
    "fig, ax = plt.subplots()\n",
    "ax.plot(kldiv)\n",
    "ax.plot(kldiv_smooth)\n",
    "plt.ylim([0, 20])\n"
   ]
  },
  {
   "cell_type": "code",
   "execution_count": null,
   "metadata": {},
   "outputs": [],
   "source": []
  }
 ],
 "metadata": {
  "interpreter": {
   "hash": "aee8b7b246df8f9039afb4144a1f6fd8d2ca17a180786b69acc140d282b71a49"
  },
  "kernelspec": {
   "display_name": "Python 3.9.7 64-bit",
   "language": "python",
   "name": "python3"
  },
  "language_info": {
   "codemirror_mode": {
    "name": "ipython",
    "version": 3
   },
   "file_extension": ".py",
   "mimetype": "text/x-python",
   "name": "python",
   "nbconvert_exporter": "python",
   "pygments_lexer": "ipython3",
   "version": "3.9.7"
  },
  "orig_nbformat": 4
 },
 "nbformat": 4,
 "nbformat_minor": 2
}
