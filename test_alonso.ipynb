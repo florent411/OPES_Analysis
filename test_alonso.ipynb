{
 "cells": [
  {
   "cell_type": "code",
   "execution_count": 2,
   "metadata": {},
   "outputs": [],
   "source": [
    "import numpy as np\n",
    "import matplotlib.pyplot as plt\n",
    "import pandas as pd"
   ]
  },
  {
   "cell_type": "code",
   "execution_count": 42,
   "metadata": {},
   "outputs": [],
   "source": [
    "def dAlonso(v1, v2):\n",
    "    \"\"\"Alonso divergence (dA) - A Physically Meaningful Method for the Comparison\n",
    "of Potential Energy Functions\n",
    "    ----------\n",
    "    v1, v2 : array-like, dtype=float, shape=n\n",
    "    Discrete probability distributions.\n",
    "    \"\"\"\n",
    "    v1 = np.asarray(v1, dtype=float)\n",
    "    v2 = np.asarray(v2, dtype=float)\n",
    "\n",
    "    v1_var, v2_var = v1.var(), v2.var()\n",
    "    r = np.corrcoef(v1, v2)[0,1]\n",
    "\n",
    "    return np.sqrt((v1_var + v2_var) * (1 - r**2))"
   ]
  },
  {
   "cell_type": "code",
   "execution_count": 43,
   "metadata": {},
   "outputs": [],
   "source": [
    "# Load FES\n",
    "df = pd.read_csv(\"FES_hel_e2e_colvar\", delim_whitespace=True)\n"
   ]
  },
  {
   "cell_type": "code",
   "execution_count": 44,
   "metadata": {},
   "outputs": [],
   "source": [
    "time_list = df['time'].unique()\n",
    "cvs = [ x for x in df.columns.values.tolist() if x not in ['time', 'fes']]"
   ]
  },
  {
   "cell_type": "code",
   "execution_count": 45,
   "metadata": {},
   "outputs": [],
   "source": [
    "total_alonso = []\n",
    "for index, time in enumerate(time_list):\n",
    "    current = df[df['time'] == time]\n",
    "    reference = df[df['time'] == 500000.0]\n",
    "\n",
    "    cur_fe = current['fes'].values\n",
    "    ref_fe = reference['fes'].values\n",
    "\n",
    "    # Calculate KLdiv\n",
    "    total_alonso.append(dAlonso(cur_fe, ref_fe))"
   ]
  },
  {
   "cell_type": "code",
   "execution_count": 46,
   "metadata": {},
   "outputs": [
    {
     "data": {
      "text/plain": [
       "(0.0, 50.0)"
      ]
     },
     "execution_count": 46,
     "metadata": {},
     "output_type": "execute_result"
    },
    {
     "data": {
      "image/png": "[encoded data removed]",
      "text/plain": [
       "<Figure size 432x288 with 1 Axes>"
      ]
     },
     "metadata": {
      "needs_background": "light"
     },
     "output_type": "display_data"
    }
   ],
   "source": [
    "#hel\n",
    "d_al = np.asarray(total_alonso)\n",
    "\n",
    "fig, ax = plt.subplots()\n",
    "ax.plot(d_al)\n",
    "ax.set_ylim([0, 50])"
   ]
  },
  {
   "cell_type": "code",
   "execution_count": 47,
   "metadata": {},
   "outputs": [
    {
     "data": {
      "text/plain": [
       "(0.0, 50.0)"
      ]
     },
     "execution_count": 47,
     "metadata": {},
     "output_type": "execute_result"
    },
    {
     "data": {
      "image/png": "[encoded data removed]",
      "text/plain": [
       "<Figure size 432x288 with 1 Axes>"
      ]
     },
     "metadata": {
      "needs_background": "light"
     },
     "output_type": "display_data"
    }
   ],
   "source": [
    "# e2e\n",
    "d_al = np.asarray(total_alonso)\n",
    "\n",
    "fig, ax = plt.subplots()\n",
    "ax.plot(d_al)\n",
    "ax.set_ylim([0, 50])"
   ]
  },
  {
   "cell_type": "code",
   "execution_count": 48,
   "metadata": {},
   "outputs": [
    {
     "data": {
      "text/plain": [
       "(0.0, 2.577483)"
      ]
     },
     "execution_count": 48,
     "metadata": {},
     "output_type": "execute_result"
    },
    {
     "data": {
      "image/png": "[encoded data removed]",
      "text/plain": [
       "<Figure size 432x288 with 1 Axes>"
      ]
     },
     "metadata": {
      "needs_background": "light"
     },
     "output_type": "display_data"
    }
   ],
   "source": [
    "#both\n",
    "d_al = np.asarray(total_alonso)\n",
    "\n",
    "fig, ax = plt.subplots()\n",
    "ax.plot(d_al)\n",
    "ax.set_ylim([0, 2.577483])"
   ]
  },
  {
   "cell_type": "code",
   "execution_count": null,
   "metadata": {},
   "outputs": [],
   "source": []
  }
 ],
 "metadata": {
  "interpreter": {
   "hash": "aee8b7b246df8f9039afb4144a1f6fd8d2ca17a180786b69acc140d282b71a49"
  },
  "kernelspec": {
   "display_name": "Python 3.9.7 64-bit",
   "language": "python",
   "name": "python3"
  },
  "language_info": {
   "codemirror_mode": {
    "name": "ipython",
    "version": 3
   },
   "file_extension": ".py",
   "mimetype": "text/x-python",
   "name": "python",
   "nbconvert_exporter": "python",
   "pygments_lexer": "ipython3",
   "version": "3.9.7"
  },
  "orig_nbformat": 4
 },
 "nbformat": 4,
 "nbformat_minor": 2
}
